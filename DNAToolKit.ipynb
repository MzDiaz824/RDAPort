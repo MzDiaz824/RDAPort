{
 "metadata": {
  "language_info": {
   "codemirror_mode": {
    "name": "ipython",
    "version": 3
   },
   "file_extension": ".py",
   "mimetype": "text/x-python",
   "name": "python",
   "nbconvert_exporter": "python",
   "pygments_lexer": "ipython3",
   "version": "3.8.3-final"
  },
  "orig_nbformat": 2,
  "kernelspec": {
   "name": "python3",
   "display_name": "Python 3",
   "language": "python"
  }
 },
 "nbformat": 4,
 "nbformat_minor": 2,
 "cells": [
  {
   "cell_type": "code",
   "execution_count": 6,
   "metadata": {},
   "outputs": [],
   "source": [
    "#create list of NTs\n",
    "NTs = ['A', 'T', 'C', 'G']"
   ]
  },
  {
   "cell_type": "code",
   "execution_count": 7,
   "metadata": {},
   "outputs": [],
   "source": [
    "#function to confirm DNA string present\n",
    "def validateSeq(dna_seq):\n",
    "    temp_seq = dna_seq.upper()\n",
    "    for nuc in temp_seq:\n",
    "        if nuc not in NTs:\n",
    "            return False\n",
    "    return temp_seq"
   ]
  },
  {
   "cell_type": "code",
   "execution_count": 8,
   "metadata": {},
   "outputs": [],
   "source": [
    "#create random DNA sequence to test function\n",
    "rando_seq = 'AAGGTTCTCGA'"
   ]
  },
  {
   "cell_type": "code",
   "execution_count": 9,
   "metadata": {},
   "outputs": [],
   "source": [
    "poor_seq = 'UAATUGGTAT'\n",
    "low_seq = 'ACCggtaTTA'"
   ]
  },
  {
   "cell_type": "code",
   "execution_count": 10,
   "metadata": {},
   "outputs": [
    {
     "output_type": "execute_result",
     "data": {
      "text/plain": [
       "'AAGGTTCTCGA'"
      ]
     },
     "metadata": {},
     "execution_count": 10
    }
   ],
   "source": [
    "validateSeq(rando_seq)"
   ]
  },
  {
   "cell_type": "code",
   "execution_count": 11,
   "metadata": {},
   "outputs": [
    {
     "output_type": "execute_result",
     "data": {
      "text/plain": [
       "False"
      ]
     },
     "metadata": {},
     "execution_count": 11
    }
   ],
   "source": [
    "validateSeq(poor_seq)"
   ]
  },
  {
   "cell_type": "code",
   "execution_count": 12,
   "metadata": {},
   "outputs": [
    {
     "output_type": "execute_result",
     "data": {
      "text/plain": [
       "'ACCGGTATTA'"
      ]
     },
     "metadata": {},
     "execution_count": 12
    }
   ],
   "source": [
    "validateSeq(low_seq)"
   ]
  },
  {
   "cell_type": "code",
   "execution_count": 14,
   "metadata": {},
   "outputs": [
    {
     "output_type": "execute_result",
     "data": {
      "text/plain": [
       "'GAAGGGCTTTGGTGA'"
      ]
     },
     "metadata": {},
     "execution_count": 14
    }
   ],
   "source": [
    "#generate random String using Python module\n",
    "import random\n",
    "rando_str = ''.join([random.choice(NTs)\n",
    "                     for nuc in range(15)])\n",
    "validateSeq(rando_str)"
   ]
  },
  {
   "cell_type": "code",
   "execution_count": 18,
   "metadata": {},
   "outputs": [],
   "source": [
    "#create function to count frequency of NTs\n",
    "def CountNucFreq(seq):\n",
    "    temp_freq_dict = {'A': 0, 'C': 0, 'G': 0, 'T': 0}\n",
    "    for nuc in seq:\n",
    "        temp_freq_dict[nuc] += 1\n",
    "    return temp_freq_dict"
   ]
  },
  {
   "cell_type": "code",
   "execution_count": 19,
   "metadata": {},
   "outputs": [
    {
     "output_type": "execute_result",
     "data": {
      "text/plain": [
       "{'A': 3, 'C': 2, 'G': 3, 'T': 3}"
      ]
     },
     "metadata": {},
     "execution_count": 19
    }
   ],
   "source": [
    "#test NT freq function\n",
    "CountNucFreq(rando_seq)"
   ]
  },
  {
   "cell_type": "code",
   "execution_count": 20,
   "metadata": {},
   "outputs": [
    {
     "output_type": "execute_result",
     "data": {
      "text/plain": [
       "{'A': 3, 'C': 1, 'G': 7, 'T': 4}"
      ]
     },
     "metadata": {},
     "execution_count": 20
    }
   ],
   "source": [
    "#test on random string\n",
    "CountNucFreq(rando_str)"
   ]
  },
  {
   "cell_type": "code",
   "execution_count": 39,
   "metadata": {},
   "outputs": [],
   "source": [
    "#use collections module to count NT frequency\n",
    "#create function to count NT with 1 line\n",
    "import collections"
   ]
  },
  {
   "cell_type": "code",
   "execution_count": 41,
   "metadata": {},
   "outputs": [],
   "source": [
    "def Collec_Count(seq):\n",
    "    return dict(collections.Counter(seq))"
   ]
  },
  {
   "cell_type": "code",
   "execution_count": 43,
   "metadata": {},
   "outputs": [
    {
     "output_type": "execute_result",
     "data": {
      "text/plain": [
       "{'A': 3, 'G': 3, 'T': 3, 'C': 2}"
      ]
     },
     "metadata": {},
     "execution_count": 43
    }
   ],
   "source": [
    "#test collections module\n",
    "Collec_Count(rando_seq)"
   ]
  },
  {
   "cell_type": "code",
   "execution_count": null,
   "metadata": {},
   "outputs": [],
   "source": []
  }
 ]
}